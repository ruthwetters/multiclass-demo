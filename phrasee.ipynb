{
 "cells": [
  {
   "cell_type": "code",
   "execution_count": 1,
   "id": "97052a30",
   "metadata": {},
   "outputs": [],
   "source": [
    "import pandas as pd\n",
    "import numpy as np"
   ]
  },
  {
   "cell_type": "code",
   "execution_count": 2,
   "id": "bd83a4d9",
   "metadata": {},
   "outputs": [],
   "source": [
    "df = pd.read_csv('/Users/ruth/Downloads/phrasee_ml_data.tsv',sep=\"\\t\",names=['company','subject'])"
   ]
  },
  {
   "cell_type": "code",
   "execution_count": 3,
   "id": "dc346030",
   "metadata": {},
   "outputs": [
    {
     "data": {
      "text/html": [
       "<div>\n",
       "<style scoped>\n",
       "    .dataframe tbody tr th:only-of-type {\n",
       "        vertical-align: middle;\n",
       "    }\n",
       "\n",
       "    .dataframe tbody tr th {\n",
       "        vertical-align: top;\n",
       "    }\n",
       "\n",
       "    .dataframe thead th {\n",
       "        text-align: right;\n",
       "    }\n",
       "</style>\n",
       "<table border=\"1\" class=\"dataframe\">\n",
       "  <thead>\n",
       "    <tr style=\"text-align: right;\">\n",
       "      <th></th>\n",
       "      <th>company</th>\n",
       "      <th>subject</th>\n",
       "    </tr>\n",
       "  </thead>\n",
       "  <tbody>\n",
       "    <tr>\n",
       "      <th>0</th>\n",
       "      <td>WayKay</td>\n",
       "      <td>🙉 Make some great memories with 10 off your ro...</td>\n",
       "    </tr>\n",
       "    <tr>\n",
       "      <th>1</th>\n",
       "      <td>WayKay</td>\n",
       "      <td>💏 Don't miss 10 off your romantic villa - ever...</td>\n",
       "    </tr>\n",
       "    <tr>\n",
       "      <th>2</th>\n",
       "      <td>WayKay</td>\n",
       "      <td>😎 It's time to unwind... We thought you'd like...</td>\n",
       "    </tr>\n",
       "    <tr>\n",
       "      <th>3</th>\n",
       "      <td>WayKay</td>\n",
       "      <td>LOVE Black Friday savings? Travel does you a w...</td>\n",
       "    </tr>\n",
       "    <tr>\n",
       "      <th>4</th>\n",
       "      <td>WayKay</td>\n",
       "      <td>Get away from it all! 10 off your romantic vil...</td>\n",
       "    </tr>\n",
       "    <tr>\n",
       "      <th>...</th>\n",
       "      <td>...</td>\n",
       "      <td>...</td>\n",
       "    </tr>\n",
       "    <tr>\n",
       "      <th>39995</th>\n",
       "      <td>Fashionista</td>\n",
       "      <td>🌜 Let's party! Your next night out(fit)...</td>\n",
       "    </tr>\n",
       "    <tr>\n",
       "      <th>39996</th>\n",
       "      <td>Fashionista</td>\n",
       "      <td>😻 The fashion you need at prices you'll LOVE.</td>\n",
       "    </tr>\n",
       "    <tr>\n",
       "      <th>39997</th>\n",
       "      <td>Fashionista</td>\n",
       "      <td>WOW... Sparkle this party season</td>\n",
       "    </tr>\n",
       "    <tr>\n",
       "      <th>39998</th>\n",
       "      <td>Fashionista</td>\n",
       "      <td>Soirée style... Be the belle of the ball.</td>\n",
       "    </tr>\n",
       "    <tr>\n",
       "      <th>39999</th>\n",
       "      <td>Fashionista</td>\n",
       "      <td>Party looks of the season</td>\n",
       "    </tr>\n",
       "  </tbody>\n",
       "</table>\n",
       "<p>40000 rows × 2 columns</p>\n",
       "</div>"
      ],
      "text/plain": [
       "           company                                            subject\n",
       "0           WayKay  🙉 Make some great memories with 10 off your ro...\n",
       "1           WayKay  💏 Don't miss 10 off your romantic villa - ever...\n",
       "2           WayKay  😎 It's time to unwind... We thought you'd like...\n",
       "3           WayKay  LOVE Black Friday savings? Travel does you a w...\n",
       "4           WayKay  Get away from it all! 10 off your romantic vil...\n",
       "...            ...                                                ...\n",
       "39995  Fashionista         🌜 Let's party! Your next night out(fit)...\n",
       "39996  Fashionista      😻 The fashion you need at prices you'll LOVE.\n",
       "39997  Fashionista                   WOW... Sparkle this party season\n",
       "39998  Fashionista          Soirée style... Be the belle of the ball.\n",
       "39999  Fashionista                          Party looks of the season\n",
       "\n",
       "[40000 rows x 2 columns]"
      ]
     },
     "execution_count": 3,
     "metadata": {},
     "output_type": "execute_result"
    }
   ],
   "source": [
    "df"
   ]
  },
  {
   "cell_type": "code",
   "execution_count": 4,
   "id": "60b03afc",
   "metadata": {},
   "outputs": [
    {
     "data": {
      "text/plain": [
       "company    0\n",
       "subject    0\n",
       "dtype: int64"
      ]
     },
     "execution_count": 4,
     "metadata": {},
     "output_type": "execute_result"
    }
   ],
   "source": [
    "pd.isnull(df).sum()"
   ]
  },
  {
   "cell_type": "code",
   "execution_count": 5,
   "id": "bbe541ba",
   "metadata": {},
   "outputs": [
    {
     "data": {
      "image/png": "[encoded data removed]",
      "text/plain": [
       "<Figure size 1440x576 with 1 Axes>"
      ]
     },
     "metadata": {},
     "output_type": "display_data"
    }
   ],
   "source": [
    "import matplotlib.pyplot as plt\n",
    "import seaborn as sn\n",
    "f = plt.figure(figsize=(20,8))\n",
    "sn.set(style='darkgrid')\n",
    "df['company'].value_counts().plot(kind=\"pie\")\n",
    "plt.show()"
   ]
  },
  {
   "cell_type": "code",
   "execution_count": 6,
   "id": "cb7a3837",
   "metadata": {},
   "outputs": [
    {
     "name": "stderr",
     "output_type": "stream",
     "text": [
      "<ipython-input-6-99d4d88f30d7>:4: FutureWarning: The default value of regex will change from True to False in a future version.\n",
      "  title_df['clean_doc'] = title_df['subject'].str.replace(\"[^a-zA-Z#]\", \" \")\n"
     ]
    }
   ],
   "source": [
    "title_df = df\n",
    "\n",
    "# removing everything except alphabets`\n",
    "title_df['clean_doc'] = title_df['subject'].str.replace(\"[^a-zA-Z#]\", \" \")\n",
    "\n",
    "# removing short words\n",
    "title_df['clean_doc'] = title_df['clean_doc'].apply(lambda x: ' '.join([w for w in x.split() if len(w)>3]))\n",
    "\n",
    "# make all text lowercasetitle_df['clean_doc'] = title_df['clean_doc'].apply(lambda x: x.lower())"
   ]
  },
  {
   "cell_type": "code",
   "execution_count": 7,
   "id": "75977bdb",
   "metadata": {},
   "outputs": [],
   "source": [
    "from nltk.corpus import stopwords\n",
    "stop_words = stopwords.words('english')\n",
    "\n",
    "# tokenization\n",
    "tokenized_doc = title_df['clean_doc'].apply(lambda x: x.split())\n",
    "\n",
    "# remove stop-words\n",
    "tokenized_doc = tokenized_doc.apply(lambda x: [item for item in x if item not in stop_words])"
   ]
  },
  {
   "cell_type": "code",
   "execution_count": 8,
   "id": "32eea712",
   "metadata": {},
   "outputs": [
    {
     "data": {
      "text/plain": [
       "(40000, 941)"
      ]
     },
     "execution_count": 8,
     "metadata": {},
     "output_type": "execute_result"
    }
   ],
   "source": [
    "from sklearn.feature_extraction.text import TfidfVectorizer\n",
    "\n",
    "vectorizer = TfidfVectorizer(stop_words='english', \n",
    "max_features= 1000, # keep top 1000 terms \n",
    "max_df = 0.5, \n",
    "smooth_idf=True)\n",
    "\n",
    "X = vectorizer.fit_transform(title_df['clean_doc'])\n",
    "\n",
    "X.shape # check shape of the document-term matrix"
   ]
  },
  {
   "cell_type": "code",
   "execution_count": 9,
   "id": "9ff76b6e",
   "metadata": {},
   "outputs": [],
   "source": [
    "# Import train_test_split function\n",
    "from sklearn.model_selection import train_test_split\n",
    "\n",
    "# Split dataset into training set and test set\n",
    "X_train, X_test, y_train, y_test = train_test_split(title_df['subject'], title_df['company'],test_size=0.3, random_state=1)"
   ]
  },
  {
   "cell_type": "code",
   "execution_count": 13,
   "id": "9e2473db",
   "metadata": {},
   "outputs": [],
   "source": [
    "from sklearn.naive_bayes import MultinomialNB\n",
    "from sklearn.pipeline import make_pipeline\n",
    "from sklearn.metrics import confusion_matrix, accuracy_score\n",
    "sn.set() # use seaborn plotting style"
   ]
  },
  {
   "cell_type": "code",
   "execution_count": 14,
   "id": "61cc6290",
   "metadata": {},
   "outputs": [],
   "source": [
    "from sklearn.model_selection import cross_val_score\n",
    "\n",
    "# Build the model\n",
    "model = make_pipeline(TfidfVectorizer(), MultinomialNB())\n",
    "scores = cross_val_score(model, X_train, y_train, cv=5)\n",
    "scores\n",
    "# Train the model using the training data\n",
    "model.fit(X_train,y_train)\n",
    "# Predict the categories of the test data\n",
    "predicted_categories = model.predict(X_test)"
   ]
  },
  {
   "cell_type": "code",
   "execution_count": 15,
   "id": "e8f9240e",
   "metadata": {},
   "outputs": [
    {
     "name": "stdout",
     "output_type": "stream",
     "text": [
      "[0.97714286 0.97642857 0.97857143 0.97303571 0.97910714]\n"
     ]
    }
   ],
   "source": [
    "print(scores)"
   ]
  },
  {
   "cell_type": "code",
   "execution_count": 16,
   "id": "1fbeb5bf",
   "metadata": {},
   "outputs": [
    {
     "data": {
      "image/png": "[encoded data removed]",
      "text/plain": [
       "<Figure size 1440x576 with 2 Axes>"
      ]
     },
     "metadata": {},
     "output_type": "display_data"
    },
    {
     "name": "stdout",
     "output_type": "stream",
     "text": [
      "The accuracy is 0.9765\n"
     ]
    }
   ],
   "source": [
    "# plot the confusion matrix\n",
    "f = plt.figure(figsize=(20,8))\n",
    "mat = confusion_matrix(y_test, predicted_categories)\n",
    "sn.heatmap(mat.T, square = True, annot=True, fmt = \"d\")\n",
    "plt.xlabel(\"true labels\")\n",
    "plt.ylabel(\"predicted label\")\n",
    "plt.show()\n",
    "print(\"The accuracy is {}\".format(accuracy_score(y_test, predicted_categories)))"
   ]
  },
  {
   "cell_type": "code",
   "execution_count": null,
   "id": "3390771b",
   "metadata": {},
   "outputs": [],
   "source": []
  }
 ],
 "metadata": {
  "kernelspec": {
   "display_name": "Python 3",
   "language": "python",
   "name": "python3"
  },
  "language_info": {
   "codemirror_mode": {
    "name": "ipython",
    "version": 3
   },
   "file_extension": ".py",
   "mimetype": "text/x-python",
   "name": "python",
   "nbconvert_exporter": "python",
   "pygments_lexer": "ipython3",
   "version": "3.8.8"
  }
 },
 "nbformat": 4,
 "nbformat_minor": 5
}
